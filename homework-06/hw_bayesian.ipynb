{
 "cells": [
  {
   "cell_type": "code",
   "execution_count": 2,
   "metadata": {},
   "outputs": [],
   "source": [
    "import numpy as np\n",
    "import pandas as pd\n",
    "from typing import Tuple, List\n",
    "from scipy.special import expit"
   ]
  },
  {
   "cell_type": "code",
   "execution_count": 3,
   "metadata": {},
   "outputs": [],
   "source": [
    "# import dataset\n",
    "\n",
    "def import_dataset(path: str) -> Tuple[np.ndarray, np.array]:\n",
    "    \"\"\"\n",
    "    Function for importation of the dataset\n",
    "    \"\"\"\n",
    "    df = pd.read_csv(path)\n",
    "    \n",
    "    y = df['Made'].to_numpy()\n",
    "    X = df.drop('Made', axis=1).to_numpy()\n",
    "    \n",
    "    return X, y\n",
    "\n",
    "\n",
    "X, y = import_dataset('dataset.csv')"
   ]
  },
  {
   "cell_type": "code",
   "execution_count": 4,
   "metadata": {},
   "outputs": [
    {
     "data": {
      "text/html": [
       "<div>\n",
       "<style scoped>\n",
       "    .dataframe tbody tr th:only-of-type {\n",
       "        vertical-align: middle;\n",
       "    }\n",
       "\n",
       "    .dataframe tbody tr th {\n",
       "        vertical-align: top;\n",
       "    }\n",
       "\n",
       "    .dataframe thead th {\n",
       "        text-align: right;\n",
       "    }\n",
       "</style>\n",
       "<table border=\"1\" class=\"dataframe\">\n",
       "  <thead>\n",
       "    <tr style=\"text-align: right;\">\n",
       "      <th></th>\n",
       "      <th>Made</th>\n",
       "      <th>Angle</th>\n",
       "      <th>Distance</th>\n",
       "    </tr>\n",
       "  </thead>\n",
       "  <tbody>\n",
       "    <tr>\n",
       "      <th>0</th>\n",
       "      <td>1</td>\n",
       "      <td>54.70</td>\n",
       "      <td>0.72</td>\n",
       "    </tr>\n",
       "    <tr>\n",
       "      <th>1</th>\n",
       "      <td>0</td>\n",
       "      <td>63.22</td>\n",
       "      <td>7.14</td>\n",
       "    </tr>\n",
       "    <tr>\n",
       "      <th>2</th>\n",
       "      <td>0</td>\n",
       "      <td>88.33</td>\n",
       "      <td>6.91</td>\n",
       "    </tr>\n",
       "    <tr>\n",
       "      <th>3</th>\n",
       "      <td>0</td>\n",
       "      <td>79.19</td>\n",
       "      <td>1.36</td>\n",
       "    </tr>\n",
       "    <tr>\n",
       "      <th>4</th>\n",
       "      <td>0</td>\n",
       "      <td>10.53</td>\n",
       "      <td>7.33</td>\n",
       "    </tr>\n",
       "    <tr>\n",
       "      <th>...</th>\n",
       "      <td>...</td>\n",
       "      <td>...</td>\n",
       "      <td>...</td>\n",
       "    </tr>\n",
       "    <tr>\n",
       "      <th>1366</th>\n",
       "      <td>1</td>\n",
       "      <td>0.00</td>\n",
       "      <td>0.52</td>\n",
       "    </tr>\n",
       "    <tr>\n",
       "      <th>1367</th>\n",
       "      <td>0</td>\n",
       "      <td>60.91</td>\n",
       "      <td>4.29</td>\n",
       "    </tr>\n",
       "    <tr>\n",
       "      <th>1368</th>\n",
       "      <td>1</td>\n",
       "      <td>26.86</td>\n",
       "      <td>0.83</td>\n",
       "    </tr>\n",
       "    <tr>\n",
       "      <th>1369</th>\n",
       "      <td>0</td>\n",
       "      <td>3.42</td>\n",
       "      <td>5.38</td>\n",
       "    </tr>\n",
       "    <tr>\n",
       "      <th>1370</th>\n",
       "      <td>0</td>\n",
       "      <td>2.13</td>\n",
       "      <td>1.44</td>\n",
       "    </tr>\n",
       "  </tbody>\n",
       "</table>\n",
       "<p>1371 rows × 3 columns</p>\n",
       "</div>"
      ],
      "text/plain": [
       "      Made  Angle  Distance\n",
       "0        1  54.70      0.72\n",
       "1        0  63.22      7.14\n",
       "2        0  88.33      6.91\n",
       "3        0  79.19      1.36\n",
       "4        0  10.53      7.33\n",
       "...    ...    ...       ...\n",
       "1366     1   0.00      0.52\n",
       "1367     0  60.91      4.29\n",
       "1368     1  26.86      0.83\n",
       "1369     0   3.42      5.38\n",
       "1370     0   2.13      1.44\n",
       "\n",
       "[1371 rows x 3 columns]"
      ]
     },
     "execution_count": 4,
     "metadata": {},
     "output_type": "execute_result"
    }
   ],
   "source": [
    "# we can use pandas df\n",
    "\n",
    "df = pd.read_csv('dataset.csv')\n",
    "\n",
    "df"
   ]
  },
  {
   "cell_type": "code",
   "execution_count": 5,
   "metadata": {},
   "outputs": [
    {
     "data": {
      "text/plain": [
       "array([1, 0, 0, ..., 1, 0, 0])"
      ]
     },
     "execution_count": 5,
     "metadata": {},
     "output_type": "execute_result"
    }
   ],
   "source": [
    "y"
   ]
  },
  {
   "cell_type": "code",
   "execution_count": 22,
   "metadata": {},
   "outputs": [
    {
     "name": "stderr",
     "output_type": "stream",
     "text": [
      "Auto-assigning NUTS sampler...\n",
      "Initializing NUTS using jitter+adapt_diag...\n",
      "Initializing NUTS using jitter+adapt_diag...\n",
      "Sequential sampling (2 chains in 1 job)\n",
      "NUTS: [beta2, beta1, intercept]\n"
     ]
    },
    {
     "name": "stderr",
     "output_type": "stream",
     "text": [
      "Sampling 2 chains for 1_000 tune and 10_000 draw iterations (2_000 + 20_000 draws total) took 70 seconds.\n"
     ]
    },
    {
     "name": "stdout",
     "output_type": "stream",
     "text": [
      "{'likelihood': array([[1, 0, 0, ..., 1, 0, 0],\n",
      "       [1, 1, 0, ..., 0, 0, 0],\n",
      "       [1, 0, 1, ..., 0, 1, 0],\n",
      "       ...,\n",
      "       [1, 0, 1, ..., 0, 1, 0],\n",
      "       [0, 0, 1, ..., 1, 0, 1],\n",
      "       [1, 1, 1, ..., 0, 1, 1]])}\n"
     ]
    }
   ],
   "source": [
    "import pymc3 as pm\n",
    "\n",
    "# surpressing warnings\n",
    "import warnings\n",
    "warnings.filterwarnings('ignore')\n",
    "\n",
    "\n",
    "# Start our model\n",
    "with pm.Model() as logistic_model:\n",
    "    # Priors\n",
    "    intercept = pm.Normal(\"intercept\", mu=0, sd=10)\n",
    "    beta1 = pm.Normal(\"beta1\", mu=0, sd=10)\n",
    "    beta2 = pm.Normal(\"beta2\", mu=0, sd=10)\n",
    "    \n",
    "     # Logistic regression equation\n",
    "    logit_p = intercept + pm.math.dot([beta1, beta2], X.T)\n",
    "    \n",
    "    # Likelihood\n",
    "    likelihood = pm.Bernoulli(\"likelihood\", logit_p=logit_p, observed=y)\n",
    "    \n",
    "    # Sampling from the posterior distribution\n",
    "    trace = pm.sample(10000, tune=1000, cores=1)\n",
    "\n",
    "    # Posterior distribution\n",
    "    posterior = pm.sample_posterior_predictive(trace)\n",
    "    \n",
    "    print(posterior)\n"
   ]
  },
  {
   "cell_type": "code",
   "execution_count": null,
   "metadata": {},
   "outputs": [],
   "source": []
  }
 ],
 "metadata": {
  "kernelspec": {
   "display_name": "Python 3",
   "language": "python",
   "name": "python3"
  },
  "language_info": {
   "codemirror_mode": {
    "name": "ipython",
    "version": 3
   },
   "file_extension": ".py",
   "mimetype": "text/x-python",
   "name": "python",
   "nbconvert_exporter": "python",
   "pygments_lexer": "ipython3",
   "version": "3.10.11"
  },
  "orig_nbformat": 4
 },
 "nbformat": 4,
 "nbformat_minor": 2
}
